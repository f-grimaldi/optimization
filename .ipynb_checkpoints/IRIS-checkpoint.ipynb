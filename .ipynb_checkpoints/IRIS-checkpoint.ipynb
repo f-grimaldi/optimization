{
 "cells": [
  {
   "cell_type": "code",
   "execution_count": 1,
   "metadata": {},
   "outputs": [],
   "source": [
    "import time\n",
    "import numpy as np\n",
    "import matplotlib.pyplot as plt\n",
    "\n",
    "from sklearn.datasets import load_iris\n",
    "from sklearn.model_selection import train_test_split\n",
    "from sklearn.preprocessing import MinMaxScaler\n",
    "from sklearn.metrics import accuracy_score"
   ]
  },
  {
   "cell_type": "code",
   "execution_count": 2,
   "metadata": {},
   "outputs": [
    {
     "name": "stdout",
     "output_type": "stream",
     "text": [
      "Shape of input: (100, 4)\n"
     ]
    }
   ],
   "source": [
    "data = load_iris()\n",
    "inp, y = data['data'], data['target']\n",
    "X = inp[y<2]\n",
    "y = y[y<2]\n",
    "print('Shape of input: {}'.format(X.shape))"
   ]
  },
  {
   "cell_type": "code",
   "execution_count": 3,
   "metadata": {},
   "outputs": [],
   "source": [
    "import optim\n",
    "import model"
   ]
  },
  {
   "cell_type": "code",
   "execution_count": 4,
   "metadata": {},
   "outputs": [
    {
     "name": "stdout",
     "output_type": "stream",
     "text": [
      "Logistic Regressor\n",
      "\tNumber of input: 4\n",
      "\tBias:\t\t True\n",
      "\n"
     ]
    }
   ],
   "source": [
    "clf = model.LogisticRegressor(input_size=X.shape[1], bias=True)\n",
    "optimizer = optim.GradientDescent(clf.W, lr=5, weight_decay=0)\n",
    "print(clf)"
   ]
  },
  {
   "cell_type": "code",
   "execution_count": 5,
   "metadata": {},
   "outputs": [
    {
     "name": "stdout",
     "output_type": "stream",
     "text": [
      "Step:  0\t\tLoss: 110.22813\n",
      "Step:  1\t\tLoss: 34.65736\n",
      "Step:  2\t\tLoss: 34.65736\n",
      "Step:  3\t\tLoss: 34.65736\n",
      "Step:  4\t\tLoss: 34.65736\n",
      "Step:  5\t\tLoss: 34.65736\n",
      "Step:  6\t\tLoss: 34.65736\n",
      "Step:  7\t\tLoss: 34.65736\n",
      "Step:  8\t\tLoss: 34.65736\n",
      "Step:  9\t\tLoss: 34.65736\n"
     ]
    }
   ],
   "source": [
    "clf.fit(X=X, y=y, optimizer=optimizer, epoch=10, verbose=1)"
   ]
  },
  {
   "cell_type": "code",
   "execution_count": 8,
   "metadata": {},
   "outputs": [
    {
     "name": "stdout",
     "output_type": "stream",
     "text": [
      "Accuracy score: 0.95\n"
     ]
    },
    {
     "data": {
      "image/png": "[encoded data removed]",
      "text/plain": [
       "<Figure size 720x360 with 1 Axes>"
      ]
     },
     "metadata": {
      "needs_background": "light"
     },
     "output_type": "display_data"
    }
   ],
   "source": [
    "y_pred = clf.predict(X)\n",
    "zeros = y_pred[y == 0]\n",
    "ones = y_pred[y == 1]\n",
    "y_pred[y_pred>0] = 1\n",
    "y_pred[y_pred<=0] = 0\n",
    "print('Accuracy score: {}'.format(np.round(accuracy_score(y_pred, y), 3)))\n",
    "\n",
    "plt.figure(figsize=(10, 5))\n",
    "plt.plot(zeros, 'o', label='Negative')\n",
    "plt.plot(ones, 'o', label='Positive')\n",
    "plt.title('Distribution of outputs by classes')\n",
    "plt.legend()\n",
    "plt.grid()\n",
    "plt.show()"
   ]
  }
 ],
 "metadata": {
  "kernelspec": {
   "display_name": "Python 3",
   "language": "python",
   "name": "python3"
  },
  "language_info": {
   "codemirror_mode": {
    "name": "ipython",
    "version": 3
   },
   "file_extension": ".py",
   "mimetype": "text/x-python",
   "name": "python",
   "nbconvert_exporter": "python",
   "pygments_lexer": "ipython3",
   "version": "3.6.8"
  }
 },
 "nbformat": 4,
 "nbformat_minor": 4
}
