{
 "cells": [
  {
   "cell_type": "markdown",
   "metadata": {},
   "source": [
    "# Logistic Regression with different optimizer\n",
    "\n",
    "Homework #1 for the **Optimization for Data Science** course of *Prof. Francesco Rinaldi*."
   ]
  },
  {
   "cell_type": "markdown",
   "metadata": {},
   "source": [
    "**Required Package**"
   ]
  },
  {
   "cell_type": "code",
   "execution_count": 1,
   "metadata": {},
   "outputs": [],
   "source": [
    "import time\n",
    "import numpy as np\n",
    "import matplotlib.pyplot as plt\n",
    "from sklearn.preprocessing import MinMaxScaler\n",
    "from sklearn.metrics import accuracy_score"
   ]
  },
  {
   "cell_type": "markdown",
   "metadata": {},
   "source": [
    "**Optimizers**"
   ]
  },
  {
   "cell_type": "code",
   "execution_count": 9,
   "metadata": {},
   "outputs": [],
   "source": [
    "class GradientDescent():\n",
    "    def __init__(self, parameters, lr=0.01, weight_decay=0.001):\n",
    "        self.prm = parameters\n",
    "        self.lr = lr\n",
    "        self.weight_decay = weight_decay\n",
    "        \n",
    "    \"\"\"\n",
    "    Compute the loss given X, y\n",
    "    \"\"\"\n",
    "    def compute_loss(self, X, y):\n",
    "        ones = np.ones((1, X.shape[0])) ### Shape: 1, number_of_imputs\n",
    "        activation = np.dot(X, self.prm.transpose()) ### Shape number_of_inputs, 1\n",
    "        regularization = self.weight_decay*(np.linalg.norm(self.prm)**2)*0.5 ### Shape: scalar\n",
    "        \n",
    "        # Sum [log(1 + exp(-y*XW'))] + 0.5*lambda||W||^2\n",
    "        loss = np.sum(np.log(ones + np.exp(-y*activation.transpose()))) + regularization ### Shape Scalar\n",
    "        return loss\n",
    "        \n",
    "    \"\"\"\n",
    "    Compute gradient\n",
    "    \"\"\"\n",
    "    def compute_gradient(self, X, y):\n",
    "        first_term = (X.transpose()*y) \n",
    "        activation = np.dot(X, self.prm.transpose())\n",
    "        second_term=(1-1/(1+np.exp(y*activation.transpose())))\n",
    "        \n",
    "        gradient = -np.dot(first_term, second_term.transpose()).transpose() + self.weight_decay*self.prm\n",
    "        return gradient\n",
    "           \n",
    "    \"\"\"\n",
    "    Main optimization step\n",
    "    \"\"\"\n",
    "    def step(self, X, y):\n",
    "        ### 1. Compute the loss\n",
    "        loss = self.compute_loss(X, y)\n",
    "        ### 2. Compute Gradient\n",
    "        gradient = self.compute_gradient(X, y)\n",
    "        ### 3. Do classic gradient descent with fixed stepsize\n",
    "        self.prm = self.prm - self.lr*gradient/np.linalg.norm(gradient)\n",
    "        ### 4. Return loss and gradient\n",
    "        return loss, gradient\n",
    "    \n",
    "class SGD():\n",
    "    \"\"\"\n",
    "    TODO: Its a copy and paste of GradientDescent Class. The difference as far i ve understood is that in SGD we just feed\n",
    "    one example at time. SO the difference in code is only done in the LogisticRegressor.fit method.\n",
    "    \"\"\"\n",
    "    def __init__(self, parameters, lr=0.01, weight_decay=0.001):\n",
    "        self.prm = parameters\n",
    "        self.lr = lr\n",
    "        self.weight_decay = weight_decay\n",
    "        \n",
    "    \"\"\"\n",
    "    Compute the loss given X, y\n",
    "    \"\"\"\n",
    "    def compute_loss(self, x, y):\n",
    "        activation = np.dot(x, self.prm.transpose())\n",
    "        regularization = self.weight_decay*(np.linalg.norm(self.prm)**2)*0.5                   \n",
    "        loss = np.log(1 + np.exp(-y*activation)) + regularization\n",
    "        return loss\n",
    "        \n",
    "    \"\"\"\n",
    "    Compute gradient\n",
    "    \"\"\"\n",
    "    def compute_gradient(self, x, y):\n",
    "        first_term = x*y\n",
    "        activation = np.dot(x, self.prm.transpose())\n",
    "        second_term=(1-1/(1+np.exp(y*activation))\n",
    "        \n",
    "        gradient = -np.dot(first_term, second_term.transpose()).transpose() + self.weight_decay*self.prm\n",
    "        return gradient\n",
    "           \n",
    "    \"\"\"\n",
    "    Main optimization step\n",
    "    \"\"\"\n",
    "    def step(self, X, y):\n",
    "        ### 1. Compute the loss\n",
    "        loss = self.compute_loss(X, y)\n",
    "        ### 2. Compute Gradient\n",
    "        gradient = self.compute_gradient(X, y)\n",
    "        ### 3. Do classic gradient descent with fixed stepsize\n",
    "        self.prm = self.prm - self.lr*gradient/np.linalg.norm(gradient)\n",
    "        ### 4. Return loss and gradient\n",
    "        return loss, gradient\n",
    "    \n",
    "class SVRD():\n",
    "    \"\"\"\n",
    "    TODO\n",
    "    \"\"\""
   ]
  },
  {
   "cell_type": "markdown",
   "metadata": {},
   "source": [
    "**Model**"
   ]
  },
  {
   "cell_type": "code",
   "execution_count": 10,
   "metadata": {},
   "outputs": [],
   "source": [
    "class LogisticRegressor():\n",
    "    def __init__(self, input_size, bias=True):\n",
    "        self.dim = input_size\n",
    "        self.bias = bias\n",
    "        self.W = self.init()\n",
    "        self.is_fit = False\n",
    "        self.normalized = False\n",
    "        \n",
    "    \"\"\"\n",
    "    Initialize the weights with normal distribution\n",
    "    \"\"\"\n",
    "    def init(self):\n",
    "        if self.bias:\n",
    "            return np.random.randn(1, self.dim+1)\n",
    "        return np.random.randn(1, self.dim)\n",
    "        \n",
    "    \"\"\"\n",
    "    Add bias feature\n",
    "    \"\"\"\n",
    "    def add_bias(self, X):\n",
    "        if self.bias:\n",
    "            mat = np.zeros((X.shape[0], X.shape[1]+1))\n",
    "            mat[:, :-1] = X\n",
    "            mat[:, -1] = 1\n",
    "            return mat\n",
    "        else:\n",
    "            return X\n",
    "        \n",
    "    \"\"\"\n",
    "    Learn weight given an optimizer and a training set (X, y)\n",
    "    \"\"\"\n",
    "    def fit(self, X, y, optimizer, epoch=100, stop_criterion = 0.01, normalized = True, verbose=0):\n",
    "        ### 1. Save optimizer\n",
    "        self.optim = optimizer\n",
    "        \n",
    "        ### 2. Add Bias Unit\n",
    "        X = self.add_bias(X)\n",
    "        \n",
    "        ### 3. Choose proper optimizer\n",
    "        ### CLASSIC\n",
    "        if type(self.optim) == GradientDescent:\n",
    "            loss = []\n",
    "            for ep in range(epoch): \n",
    "                ### 3.1 Do a step\n",
    "                ### 3.1.a Call the optimizer\n",
    "                tmp_loss, gradient = self.optim.step(X, y)\n",
    "                loss.append(tmp_loss)\n",
    "                ### 3.1.b Update parameters\n",
    "                self.W = self.optim.prm\n",
    "            \n",
    "                ### 3.2 Check stopping condition\n",
    "                \"\"\"\n",
    "                TODO\n",
    "                \"\"\"  \n",
    "\n",
    "                ### 3.3 Display current results\n",
    "                if verbose:\n",
    "                    print('Step:  {}\\t\\tLoss: {}'.format(ep, np.round(loss[-1], 5)))\n",
    "        \n",
    "        ### SGD\n",
    "        elif type(self.optim) == SGD:\n",
    "            loss = []\n",
    "            for ep in range(epoch):\n",
    "                ep_loss = []\n",
    "                for i in range(X.shape[0]):\n",
    "                    ### 3.1 Do a step\n",
    "                    ### 3.1.a Call the optimizer\n",
    "                    tmp_loss, gradient = self.optim.step(X[i, :], y[i])\n",
    "                    loss.append(tmp_loss)\n",
    "                    ### 3.1.b Update parameters\n",
    "                    self.W = self.optim.prm\n",
    "                    \n",
    "                    ### 3.2 Check stopping condition\n",
    "                    \"\"\"\n",
    "                    TODO\n",
    "                    \"\"\"  \n",
    "                \n",
    "                loss.append(np.mean(ep_loss))\n",
    "                ### 3.3 Display current results\n",
    "                if verbose:\n",
    "                    print('Step:  {}\\t\\tLoss: {}'.format(ep, np.round(loss[-1], 5)))\n",
    "\n",
    "        \n",
    "        ### SVRD\n",
    "        elif type(self.optim) == SVRD:\n",
    "            \"\"\"\n",
    "            TODO\n",
    "            \"\"\"\n",
    "        \n",
    "        ### NONE\n",
    "        else:\n",
    "            print('Please use one of the following optimizer:\\nGradientDescent, SGD, SVRD. Returning None')\n",
    "            return None\n",
    "        \n",
    "        \n",
    "        ### 4. Normalize the outpush such that decision threshold is 0\n",
    "        if normalized:\n",
    "            self.normalized = True\n",
    "            self.get_threshold(X, y)\n",
    "        \n",
    "        ### 5. Signal model is fitted\n",
    "        self.is_fit = True\n",
    "    \n",
    "    \"\"\"\n",
    "    Predict the data X as a Linear Classifier (X.t*W)\n",
    "    \"\"\"    \n",
    "    def predict(self, X, normalized_output=True):\n",
    "        ### 1. Check if the model is fitted\n",
    "        if not self.is_fit:\n",
    "            print('The model is not fitted. Please run LogisticRegressor.fit(X, y) to fit the model. Returning None')\n",
    "            return None\n",
    "        \n",
    "        ### 2. Add unit bias and forward\n",
    "        X = self.add_bias(X)\n",
    "        out = np.dot(X, self.W.transpose()).reshape(-1)\n",
    "        \n",
    "        ### 3. Normalize output such that threshold is 0\n",
    "        if normalized_output:\n",
    "            if not self.normalized:\n",
    "                print(\"Need to call normalize=True in LogisticRegressor.fit() in order to use this option. Return raw output\")\n",
    "                return out\n",
    "            else:\n",
    "                return out-self.threshold\n",
    "                \n",
    "    \"\"\"\n",
    "    Compute the threshold and normalized it to 0\n",
    "    \"\"\"\n",
    "    def get_threshold(self, X, y):\n",
    "        out = np.dot(X, self.W.transpose()).reshape(-1)\n",
    "        zeros = out[y == 0]\n",
    "        ones = out[y == 1]\n",
    "        self.threshold = (ones.min() + zeros.max())/2\n",
    "        \n",
    "        \n",
    "    \"\"\"\n",
    "    String method\n",
    "    \"\"\"\n",
    "    def __str__(self):\n",
    "        return \"Logistic Regressor\\n\\tNumber of input: {}\\n\\tBias:\\t\\t {}\\n\".format(self.dim, self.bias)"
   ]
  },
  {
   "cell_type": "markdown",
   "metadata": {},
   "source": [
    "## Testing\n",
    "**Create Data**"
   ]
  },
  {
   "cell_type": "code",
   "execution_count": 11,
   "metadata": {},
   "outputs": [],
   "source": [
    "\"\"\"\n",
    "Y shape: 1, n_input\n",
    "X shape: n_input, n_features\n",
    "W shape: 1, n_features\n",
    "\"\"\"\n",
    "training_inputs = 50000\n",
    "testing_inputs = 5000\n",
    "number_of_features = 500\n",
    "\n",
    "\n",
    "\n",
    "\"\"\"\n",
    "Here we create a dataset of random integers. We sum the integers by row and set the target 'y' 1 if the sum is above\n",
    "the mean of the sum or 0 if the sum is below or equal the mean of the sum.\n",
    "There is no random noise so it is possible toi reach 1.0 accuracy.\n",
    "\"\"\"\n",
    "def create_data(from_=0, to_=10, train_shape = (3000, 3), test_shape = (800, 3)):\n",
    "    if train_shape[1] != test_shape[1]:\n",
    "        print('Number of features in train differs from number of features in test')\n",
    "        return None\n",
    "    X_train, X_test = np.random.randint(from_, to_, train_shape), np.random.randint(from_, to_, test_shape)\n",
    "    y_train, y_test = np.sum(X_train, axis=1), np.sum(X_test, axis=1)\n",
    "    mean_y_train, mean_y_test = y_train.mean(), y_test.mean()\n",
    "    y_train[y_train < mean_y_train] = 0\n",
    "    y_train[y_train >= mean_y_train] = 1\n",
    "    y_test[y_test < mean_y_test] = 0\n",
    "    y_test[y_test >= mean_y_test] = 1 \n",
    "    \n",
    "    return (X_train, y_train), (X_test, y_test)\n",
    "\n",
    "\"\"\"\n",
    "Scale the data between 0 and 1\n",
    "\"\"\"\n",
    "def normalize_data(X_train, X_test):\n",
    "    scaler = MinMaxScaler()\n",
    "    X_train = scaler.fit_transform(X_train)\n",
    "    X_test = scaler.transform(X_test)\n",
    "    return X_train, X_test\n",
    "\n",
    "train, test =  create_data(from_=0, to_=10, \n",
    "                           train_shape = (training_inputs, number_of_features), \n",
    "                           test_shape  = (testing_inputs, number_of_features))\n",
    "\n",
    "X_train, X_test = normalize_data(train[0], test[0])"
   ]
  },
  {
   "cell_type": "markdown",
   "metadata": {},
   "source": [
    "**Fit the model**"
   ]
  },
  {
   "cell_type": "code",
   "execution_count": 12,
   "metadata": {},
   "outputs": [
    {
     "name": "stdout",
     "output_type": "stream",
     "text": [
      "Logistic Regressor\n",
      "\tNumber of input: 500\n",
      "\tBias:\t\t False\n",
      "\n"
     ]
    }
   ],
   "source": [
    "### Call the model by giving him the number of features and the option to add a bias unit\n",
    "reg = LogisticRegressor(input_size=number_of_features, bias=False)\n",
    "print(reg)\n",
    "### Call the optimizer with the variable to optimize, the fixed step size and the regularization parameter\n",
    "optim = GradientDescent(reg.W, lr=10, weight_decay=0.000)"
   ]
  },
  {
   "cell_type": "code",
   "execution_count": 13,
   "metadata": {},
   "outputs": [
    {
     "name": "stdout",
     "output_type": "stream",
     "text": [
      "Step:  0\t\tLoss: 20640.32376\n",
      "Step:  1\t\tLoss: 17157.47216\n",
      "Step:  2\t\tLoss: 17157.47216\n",
      "Step:  3\t\tLoss: 17157.47216\n",
      "Step:  4\t\tLoss: 17157.47216\n",
      "Step:  5\t\tLoss: 17157.47216\n"
     ]
    },
    {
     "name": "stderr",
     "output_type": "stream",
     "text": [
      "C:\\Users\\fgrim\\AppData\\Local\\Continuum\\anaconda3\\lib\\site-packages\\ipykernel_launcher.py:25: RuntimeWarning: overflow encountered in exp\n"
     ]
    },
    {
     "name": "stdout",
     "output_type": "stream",
     "text": [
      "Step:  6\t\tLoss: 17157.47216\n",
      "Step:  7\t\tLoss: 17157.47216\n",
      "Step:  8\t\tLoss: 17157.47216\n",
      "Step:  9\t\tLoss: 17157.47216\n",
      "Step:  10\t\tLoss: 17157.47216\n",
      "Step:  11\t\tLoss: 17157.47216\n",
      "Step:  12\t\tLoss: 17157.47216\n",
      "Step:  13\t\tLoss: 17157.47216\n",
      "Step:  14\t\tLoss: 17157.47216\n",
      "Step:  15\t\tLoss: 17157.47216\n",
      "Step:  16\t\tLoss: 17157.47216\n",
      "Step:  17\t\tLoss: 17157.47216\n",
      "Step:  18\t\tLoss: 17157.47216\n",
      "Step:  19\t\tLoss: 17157.47216\n",
      "Step:  20\t\tLoss: 17157.47216\n",
      "Step:  21\t\tLoss: 17157.47216\n",
      "Step:  22\t\tLoss: 17157.47216\n",
      "Step:  23\t\tLoss: 17157.47216\n",
      "Step:  24\t\tLoss: 17157.47216\n",
      "Step:  25\t\tLoss: 17157.47216\n",
      "Step:  26\t\tLoss: 17157.47216\n",
      "Step:  27\t\tLoss: 17157.47216\n",
      "Step:  28\t\tLoss: 17157.47216\n",
      "Step:  29\t\tLoss: 17157.47216\n",
      "Time spent: 19.236940145492554\n"
     ]
    }
   ],
   "source": [
    "### Call the fit procedure with the chosen optimizer, max number of epochs and batch_size \n",
    "start = time.time()\n",
    "reg.fit(X_train, train[1], optim, epoch=30, verbose=1)\n",
    "end = time.time()\n",
    "print('Time spent: {}'.format(end-start))"
   ]
  },
  {
   "cell_type": "markdown",
   "metadata": {},
   "source": [
    "**Results**"
   ]
  },
  {
   "cell_type": "code",
   "execution_count": 15,
   "metadata": {},
   "outputs": [
    {
     "name": "stdout",
     "output_type": "stream",
     "text": [
      "Accuracy score: 0.977\n"
     ]
    },
    {
     "data": {
      "image/png": "[encoded data removed]",
      "text/plain": [
       "<Figure size 720x360 with 1 Axes>"
      ]
     },
     "metadata": {
      "needs_background": "light"
     },
     "output_type": "display_data"
    }
   ],
   "source": [
    "y_pred = reg.predict(X_test)\n",
    "zeros = y_pred[test[1] == 0]\n",
    "ones = y_pred[test[1] == 1]\n",
    "y_pred[y_pred>0] = 1\n",
    "y_pred[y_pred<=0] = 0\n",
    "print('Accuracy score: {}'.format(np.round(accuracy_score(y_pred, test[1]), 3)))\n",
    "\n",
    "plt.figure(figsize=(10, 5))\n",
    "plt.plot(zeros, 'o', label='Negative')\n",
    "plt.plot(ones, 'o', label='Positive')\n",
    "plt.title('Distribution of outputs by classes')\n",
    "plt.legend()\n",
    "plt.grid()\n",
    "plt.show()"
   ]
  },
  {
   "cell_type": "markdown",
   "metadata": {},
   "source": [
    "**Match the results with the ones obtained by using sklearn**"
   ]
  },
  {
   "cell_type": "code",
   "execution_count": 86,
   "metadata": {},
   "outputs": [
    {
     "name": "stdout",
     "output_type": "stream",
     "text": [
      "Time spent: 6.000520467758179\n"
     ]
    }
   ],
   "source": [
    "from sklearn.linear_model import LogisticRegression\n",
    "model = LogisticRegression(penalty='none')\n",
    "start=time.time()\n",
    "model.fit(X_train, train[1])\n",
    "end = time.time()\n",
    "print('Time spent: {}'.format(end-start))\n",
    "y_pred = model.predict_proba(X_test)[:, 0]\n",
    "zeros = y_pred[test[1] == 0]\n",
    "ones = y_pred[test[1] == 1]"
   ]
  },
  {
   "cell_type": "code",
   "execution_count": 70,
   "metadata": {},
   "outputs": [
    {
     "name": "stdout",
     "output_type": "stream",
     "text": [
      "Accuracy score: 0.994\n"
     ]
    },
    {
     "data": {
      "image/png": "[encoded data removed]",
      "text/plain": [
       "<Figure size 720x360 with 1 Axes>"
      ]
     },
     "metadata": {
      "needs_background": "light"
     },
     "output_type": "display_data"
    }
   ],
   "source": [
    "print('Accuracy score: {}'.format(np.round(accuracy_score(np.argmax(model.predict_proba(X_test), axis=1), test[1]), 3)))\n",
    "\n",
    "plt.figure(figsize=(10, 5))\n",
    "plt.plot(zeros, 'o', label='Negative')\n",
    "plt.plot(ones, 'o', label='Positive')\n",
    "plt.title('Distribution of outputs by classes')\n",
    "plt.legend()\n",
    "plt.grid()\n",
    "plt.show()"
   ]
  }
 ],
 "metadata": {
  "kernelspec": {
   "display_name": "Python 3",
   "language": "python",
   "name": "python3"
  },
  "language_info": {
   "codemirror_mode": {
    "name": "ipython",
    "version": 3
   },
   "file_extension": ".py",
   "mimetype": "text/x-python",
   "name": "python",
   "nbconvert_exporter": "python",
   "pygments_lexer": "ipython3",
   "version": "3.6.8"
  }
 },
 "nbformat": 4,
 "nbformat_minor": 4
}
